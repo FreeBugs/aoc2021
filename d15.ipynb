{
 "cells": [
  {
   "cell_type": "markdown",
   "id": "b3e694f0-d6c3-4831-9435-397e552fe686",
   "metadata": {},
   "source": [
    "# ~~~~~ Day 15 ~~~~~ \n",
    "## Part 1"
   ]
  },
  {
   "cell_type": "code",
   "execution_count": 20,
   "id": "96902a3e-bb0d-4024-b32c-293fc1d1fe04",
   "metadata": {},
   "outputs": [
    {
     "data": {
      "text/plain": [
       "array([[6, 8, 5, ..., 8, 9, 8],\n",
       "       [9, 4, 2, ..., 6, 8, 1],\n",
       "       [3, 7, 9, ..., 9, 7, 7],\n",
       "       ...,\n",
       "       [2, 1, 2, ..., 1, 9, 7],\n",
       "       [7, 8, 6, ..., 2, 2, 7],\n",
       "       [8, 8, 8, ..., 3, 9, 4]])"
      ]
     },
     "execution_count": 20,
     "metadata": {},
     "output_type": "execute_result"
    }
   ],
   "source": [
    "import numpy as np\n",
    "\n",
    "with open('d15.txt', 'r') as f:\n",
    "    content = f.readlines()\n",
    "\n",
    "data = [[int(c) for c in list(d.strip('\\n'))] for d in content]\n",
    "world = np.asarray(data)\n",
    "\n",
    "world"
   ]
  },
  {
   "cell_type": "code",
   "execution_count": 21,
   "id": "161617db-836b-4d98-8a43-8a448857123f",
   "metadata": {},
   "outputs": [
    {
     "data": {
      "text/plain": [
       "array([[  0.,   8.,  13., ..., 571., 580., 588.],\n",
       "       [  9.,  12.,  14., ..., 549., 557., 558.],\n",
       "       [ 12.,  19.,  23., ..., 547., 554., 561.],\n",
       "       ...,\n",
       "       [464., 462., 461., ..., 702., 711., 713.],\n",
       "       [471., 470., 467., ..., 704., 706., 713.],\n",
       "       [479., 478., 475., ..., 707., 715., 717.]])"
      ]
     },
     "execution_count": 21,
     "metadata": {},
     "output_type": "execute_result"
    }
   ],
   "source": [
    "cost = np.empty(shape=world.shape, dtype=float)\n",
    "cost[:] = np.nan\n",
    "\n",
    "def get_min_cost(y, x):\n",
    "    if x == 0 and y == 0: return -world[0, 0]\n",
    "    a = np.asarray([\n",
    "        cost[y-1, x] if y>0 else np.nan,\n",
    "        cost[y+1, x] if y<cost.shape[0]-1 else np.nan,\n",
    "        cost[y, x-1] if x>0 else np.nan,\n",
    "        cost[y, x+1] if x<cost.shape[1]-1 else np.nan\n",
    "    ])\n",
    "    m = np.nanmin(a)\n",
    "    return m\n",
    "            \n",
    "\n",
    "for y in range(0, cost.shape[0]):\n",
    "    for x in range(0, cost.shape[1]):\n",
    "        cost[y, x] = get_min_cost(y, x) + world[y, x]\n",
    "    for x in range(cost.shape[1]-1, -1, -1):\n",
    "        cost[y, x] = get_min_cost(y, x) + world[y, x]\n",
    "        \n",
    "cost"
   ]
  },
  {
   "cell_type": "markdown",
   "id": "c823ed3b-ff51-4f88-bb7f-742c222401fe",
   "metadata": {
    "tags": []
   },
   "source": [
    "## Part 2"
   ]
  },
  {
   "cell_type": "code",
   "execution_count": 22,
   "id": "5c21ee4e-2e9d-4423-b5bb-b159f1b93cb6",
   "metadata": {},
   "outputs": [
    {
     "data": {
      "text/plain": [
       "(500, 500)"
      ]
     },
     "execution_count": 22,
     "metadata": {},
     "output_type": "execute_result"
    }
   ],
   "source": [
    "a = np.copy(world) - 1\n",
    "world2 = np.ndarray(shape=(0,0))\n",
    "for y in range(0, 5):\n",
    "    a += 1\n",
    "    a[a == 10] = 1\n",
    "    b = np.copy(a)\n",
    "    row = [np.copy(b)]\n",
    "    for x in range(0, 4):\n",
    "        b += 1\n",
    "        b[b == 10] = 1\n",
    "        row.append(np.copy(b))\n",
    "    if world2.shape[0] == 0:\n",
    "        world2 = np.hstack(row)\n",
    "    else:\n",
    "        world2 = np.vstack([world2, np.hstack(row)])\n",
    "\n",
    "world2.shape"
   ]
  },
  {
   "cell_type": "code",
   "execution_count": 24,
   "id": "af8b845c-314e-4aca-96b0-6e9c44b97df1",
   "metadata": {},
   "outputs": [
    {
     "data": {
      "text/plain": [
       "array([[   0.,    8.,   13., ..., 2282., 2286., 2289.],\n",
       "       [   9.,   12.,   14., ..., 2167., 2170., 2175.],\n",
       "       [  12.,   19.,   23., ..., 2137., 2139., 2141.],\n",
       "       ...,\n",
       "       [1738., 1735., 1733., ..., 2984., 2984., 2984.],\n",
       "       [1738., 1736., 1733., ..., 2985., 2985., 2990.],\n",
       "       [1741., 1739., 1736., ..., 2987., 2993., 2993.]])"
      ]
     },
     "execution_count": 24,
     "metadata": {},
     "output_type": "execute_result"
    }
   ],
   "source": [
    "cost = np.empty(shape=world2.shape, dtype=float)\n",
    "cost[:] = np.nan\n",
    "\n",
    "def get_min_cost(y, x):\n",
    "    if x == 0 and y == 0: return -world[0, 0]\n",
    "    a = np.asarray([\n",
    "        cost[y-1, x] if y>0 else np.nan,\n",
    "        cost[y+1, x] if y<cost.shape[0]-1 else np.nan,\n",
    "        cost[y, x-1] if x>0 else np.nan,\n",
    "        cost[y, x+1] if x<cost.shape[1]-1 else np.nan\n",
    "    ])\n",
    "    m = np.nanmin(a)\n",
    "    return m\n",
    "            \n",
    "\n",
    "for i in range(0, 2): # to get the lower cell values\n",
    "    for y in range(0, cost.shape[0]):\n",
    "        for x in range(0, cost.shape[1]):\n",
    "            cost[y, x] = get_min_cost(y, x) + world2[y, x]\n",
    "        for x in range(cost.shape[1]-1, -1, -1):\n",
    "            cost[y, x] = get_min_cost(y, x) + world2[y, x]\n",
    "   \n",
    "cost"
   ]
  },
  {
   "cell_type": "code",
   "execution_count": null,
   "id": "b7a90a88-5f30-4d10-8a5c-b0a1d2ed9b9f",
   "metadata": {},
   "outputs": [],
   "source": []
  }
 ],
 "metadata": {
  "kernelspec": {
   "display_name": "Python 3 (ipykernel)",
   "language": "python",
   "name": "python3"
  },
  "language_info": {
   "codemirror_mode": {
    "name": "ipython",
    "version": 3
   },
   "file_extension": ".py",
   "mimetype": "text/x-python",
   "name": "python",
   "nbconvert_exporter": "python",
   "pygments_lexer": "ipython3",
   "version": "3.9.7"
  }
 },
 "nbformat": 4,
 "nbformat_minor": 5
}
