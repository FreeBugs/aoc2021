{
 "cells": [
  {
   "cell_type": "markdown",
   "id": "b3e694f0-d6c3-4831-9435-397e552fe686",
   "metadata": {},
   "source": [
    "# ~~~~~ Day 12 ~~~~~ \n",
    "## Part 1"
   ]
  },
  {
   "cell_type": "code",
   "execution_count": 1,
   "id": "96902a3e-bb0d-4024-b32c-293fc1d1fe04",
   "metadata": {},
   "outputs": [
    {
     "data": {
      "text/plain": [
       "[{'lg': 'GW'},\n",
       " {'pt': 'start'},\n",
       " {'pt': 'uq'},\n",
       " {'nx': 'lg'},\n",
       " {'ve': 'GW'},\n",
       " {'start': 'nx'},\n",
       " {'GW': 'start'},\n",
       " {'GW': 'nx'},\n",
       " {'pt': 'SM'},\n",
       " {'sx': 'GW'},\n",
       " {'lg': 'end'},\n",
       " {'nx': 'SM'},\n",
       " {'lg': 'SM'},\n",
       " {'pt': 'nx'},\n",
       " {'end': 've'},\n",
       " {'ve': 'SM'},\n",
       " {'TG': 'uq'},\n",
       " {'end': 'SM'},\n",
       " {'SM': 'uq'},\n",
       " {'GW': 'lg'},\n",
       " {'start': 'pt'},\n",
       " {'uq': 'pt'},\n",
       " {'lg': 'nx'},\n",
       " {'GW': 've'},\n",
       " {'nx': 'start'},\n",
       " {'start': 'GW'},\n",
       " {'nx': 'GW'},\n",
       " {'SM': 'pt'},\n",
       " {'GW': 'sx'},\n",
       " {'end': 'lg'},\n",
       " {'SM': 'nx'},\n",
       " {'SM': 'lg'},\n",
       " {'nx': 'pt'},\n",
       " {'ve': 'end'},\n",
       " {'SM': 've'},\n",
       " {'uq': 'TG'},\n",
       " {'SM': 'end'},\n",
       " {'uq': 'SM'}]"
      ]
     },
     "execution_count": 1,
     "metadata": {},
     "output_type": "execute_result"
    }
   ],
   "source": [
    "import numpy as np\n",
    "import pandas as pd\n",
    "import matplotlib\n",
    "import matplotlib.pyplot as plt\n",
    "import plotly.graph_objects as go\n",
    "import networkx as nx\n",
    "\n",
    "with open('d12.txt', 'r') as f:\n",
    "    content = f.readlines()\n",
    "\n",
    "data = [c.split('-') for c in [d.strip('\\n') for d in content]]\n",
    "data = [{c[0]: c[1]} for c in data] + [{c[1]: c[0]} for c in data]\n",
    "data"
   ]
  },
  {
   "cell_type": "code",
   "execution_count": 2,
   "id": "043c178e-c2c7-451b-963a-0828c3b1e8c8",
   "metadata": {},
   "outputs": [
    {
     "data": {
      "text/plain": [
       "{'GW', 'SM', 'TG', 'end', 'lg', 'nx', 'pt', 'start', 'sx', 'uq', 've'}"
      ]
     },
     "execution_count": 2,
     "metadata": {},
     "output_type": "execute_result"
    }
   ],
   "source": [
    "nodes = set(sorted([e for p in data for e in p]))\n",
    "nodes"
   ]
  },
  {
   "cell_type": "code",
   "execution_count": 3,
   "id": "fcb1807b-37ca-4735-b0a1-65cad983eeeb",
   "metadata": {},
   "outputs": [
    {
     "data": {
      "text/plain": [
       "3708"
      ]
     },
     "execution_count": 3,
     "metadata": {},
     "output_type": "execute_result"
    }
   ],
   "source": [
    "def recurse_path(current_node, visited_nodes, available_connections, level=0):\n",
    "    vn = visited_nodes + [current_node]\n",
    "    if current_node == 'end':\n",
    "        return [vn]\n",
    "    possibilities = list(filter(lambda a: current_node in a and (a[current_node].isupper() or a[current_node] not in vn), available_connections))\n",
    "    if len(possibilities) == 0:\n",
    "        return None\n",
    "    sub_paths = []\n",
    "    for p in possibilities:\n",
    "        sub_path = recurse_path(p[current_node], vn, list(filter(lambda a: p != a, available_connections)), level=level+1)\n",
    "        if sub_path:\n",
    "            sub_paths += sub_path\n",
    "    return sub_paths\n",
    "\n",
    "paths = recurse_path('start', [], data)\n",
    "len(paths)"
   ]
  },
  {
   "cell_type": "markdown",
   "id": "c823ed3b-ff51-4f88-bb7f-742c222401fe",
   "metadata": {
    "tags": []
   },
   "source": [
    "## Part 2"
   ]
  },
  {
   "cell_type": "code",
   "execution_count": 4,
   "id": "f3fc91d5-fb1d-4de2-aac7-457b3121f6b9",
   "metadata": {},
   "outputs": [
    {
     "data": {
      "text/plain": [
       "[{'lg': 'GW'},\n",
       " {'ve': 'GW'},\n",
       " {'pt': 'SM'},\n",
       " {'sx': 'GW'},\n",
       " {'nx': 'SM'},\n",
       " {'lg': 'SM'},\n",
       " {'ve': 'SM'},\n",
       " {'end': 'SM'},\n",
       " {'start': 'GW'},\n",
       " {'nx': 'GW'},\n",
       " {'uq': 'TG'},\n",
       " {'uq': 'SM'}]"
      ]
     },
     "execution_count": 4,
     "metadata": {},
     "output_type": "execute_result"
    }
   ],
   "source": [
    "list(filter(lambda a: a[list(a)[0]].isupper(), data))"
   ]
  },
  {
   "cell_type": "code",
   "execution_count": 5,
   "id": "382e3a51-9422-44b4-83a2-85ad7b7447cf",
   "metadata": {},
   "outputs": [
    {
     "name": "stdout",
     "output_type": "stream",
     "text": [
      "93858\n"
     ]
    }
   ],
   "source": [
    "def recurse_path_2(current_node, visited_nodes, available_connections, small_cave_visited=False, level=0):\n",
    "    vn = visited_nodes + [current_node]\n",
    "    scv = small_cave_visited\n",
    "    if current_node == 'end':\n",
    "        return [vn]\n",
    "    possibilities = list(filter(lambda a: current_node in a and (a[current_node] not in vn or a[current_node].isupper() or not scv), available_connections))\n",
    "    if len(possibilities) == 0:\n",
    "        return None\n",
    "    sub_paths = []\n",
    "    for p in possibilities:\n",
    "        sub_path = None\n",
    "        av = list(filter(lambda a: a[list(a)[0]].isupper() or p != a or (p == a and not scv), available_connections))\n",
    "        if p[current_node].isupper():\n",
    "            sub_path = recurse_path_2(p[current_node], vn, av, level=level+1, small_cave_visited=scv)\n",
    "        elif p[current_node] not in vn:\n",
    "            sub_path = recurse_path_2(p[current_node], vn, av, level=level+1, small_cave_visited=scv) \n",
    "        elif p[current_node] != 'start' and p[current_node] in vn and not scv:\n",
    "            sub_path = recurse_path_2(p[current_node], vn, av, level=level+1, small_cave_visited=True)\n",
    "        if sub_path:\n",
    "            sub_paths += sub_path\n",
    "    return sub_paths\n",
    "\n",
    "paths = recurse_path_2('start', [], data)\n",
    "print(len(paths))"
   ]
  },
  {
   "cell_type": "code",
   "execution_count": 6,
   "id": "7ec87247-c066-4c73-a97e-9d1cb03be30a",
   "metadata": {},
   "outputs": [],
   "source": [
    "plt.rcParams.update({\n",
    "    \"lines.color\": \"white\",\n",
    "    \"patch.edgecolor\": \"white\",\n",
    "    \"text.color\": \"black\",\n",
    "    \"axes.facecolor\": \"white\",\n",
    "    \"axes.edgecolor\": \"lightgray\",\n",
    "    \"axes.labelcolor\": \"white\",\n",
    "    \"xtick.color\": \"white\",\n",
    "    \"ytick.color\": \"white\",\n",
    "    \"grid.color\": \"lightgray\",\n",
    "    \"figure.facecolor\": \"black\",\n",
    "    \"figure.edgecolor\": \"black\",\n",
    "    \"savefig.facecolor\": \"black\",\n",
    "    \"savefig.edgecolor\": \"black\"})\n",
    "\n",
    "G = nx.Graph()\n",
    "G.add_nodes_from(nodes)\n",
    "G.add_edges_from([edge for p in [[(p[0], p[1]) for p in zip(path, path[1:])] for path in paths] for edge in p])"
   ]
  },
  {
   "cell_type": "code",
   "execution_count": 7,
   "id": "221c0e27-5690-467c-b9b4-f3979ff5bae9",
   "metadata": {},
   "outputs": [
    {
     "data": {
      "image/png": "[encoded data removed]",
      "text/plain": [
       "<Figure size 864x720 with 1 Axes>"
      ]
     },
     "metadata": {},
     "output_type": "display_data"
    }
   ],
   "source": [
    "pos = nx.kamada_kawai_layout(G)\n",
    "subax1 = plt.subplots(1, figsize=(12,10))\n",
    "nx.draw(G, pos=pos, with_labels=True, font_weight='bold', node_size=1000, node_color='#ff9900', connectionstyle=\"arc3,rad=0.1\")"
   ]
  }
 ],
 "metadata": {
  "kernelspec": {
   "display_name": "Python 3 (ipykernel)",
   "language": "python",
   "name": "python3"
  },
  "language_info": {
   "codemirror_mode": {
    "name": "ipython",
    "version": 3
   },
   "file_extension": ".py",
   "mimetype": "text/x-python",
   "name": "python",
   "nbconvert_exporter": "python",
   "pygments_lexer": "ipython3",
   "version": "3.9.7"
  }
 },
 "nbformat": 4,
 "nbformat_minor": 5
}
