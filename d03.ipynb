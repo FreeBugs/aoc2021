{
 "cells": [
  {
   "cell_type": "markdown",
   "id": "b3e694f0-d6c3-4831-9435-397e552fe686",
   "metadata": {},
   "source": [
    "# ~~~~~ Day 3 ~~~~~ \n",
    "## Part 1"
   ]
  },
  {
   "cell_type": "code",
   "execution_count": 1,
   "id": "96902a3e-bb0d-4024-b32c-293fc1d1fe04",
   "metadata": {},
   "outputs": [
    {
     "data": {
      "text/plain": [
       "[[0, 0, 0, 0, 1, 1, 0, 0, 0, 1, 1, 0],\n",
       " [1, 0, 0, 1, 1, 0, 1, 0, 0, 1, 0, 1],\n",
       " [1, 0, 1, 1, 0, 0, 1, 0, 1, 0, 0, 1],\n",
       " [0, 0, 1, 1, 0, 0, 0, 1, 0, 0, 0, 0],\n",
       " [0, 1, 1, 0, 0, 0, 1, 0, 0, 1, 0, 0],\n",
       " [1, 1, 0, 1, 0, 0, 1, 0, 1, 1, 1, 1],\n",
       " [1, 1, 0, 1, 1, 0, 0, 0, 1, 0, 0, 1],\n",
       " [0, 1, 0, 0, 1, 0, 1, 0, 0, 1, 0, 1],\n",
       " [1, 0, 0, 1, 1, 1, 0, 0, 0, 0, 1, 0],\n",
       " [0, 0, 1, 0, 1, 0, 1, 1, 0, 0, 0, 1]]"
      ]
     },
     "execution_count": 1,
     "metadata": {},
     "output_type": "execute_result"
    }
   ],
   "source": [
    "import numpy as np\n",
    "\n",
    "with open('d03.txt', 'r') as f:\n",
    "    lines = [[int(c) for c in list(s)] for s in [l.strip('\\n') for l in f.readlines()]]\n",
    "lines[:10]"
   ]
  },
  {
   "cell_type": "code",
   "execution_count": 2,
   "id": "2c41f50a-e291-45f5-bf9b-82e4a538b9be",
   "metadata": {},
   "outputs": [],
   "source": [
    "def matrix_to_int(m):\n",
    "    res = 0\n",
    "    for i in np.ravel(m):\n",
    "        res = res << 1 | i\n",
    "    return res"
   ]
  },
  {
   "cell_type": "code",
   "execution_count": 3,
   "id": "290d686f-4b85-4431-8e57-2fb2c459976d",
   "metadata": {},
   "outputs": [
    {
     "data": {
      "text/plain": [
       "matrix([[0, 0, 0, ..., 1, 1, 0],\n",
       "        [1, 0, 0, ..., 1, 0, 1],\n",
       "        [1, 0, 1, ..., 0, 0, 1],\n",
       "        ...,\n",
       "        [1, 0, 0, ..., 0, 1, 0],\n",
       "        [1, 0, 0, ..., 0, 0, 0],\n",
       "        [1, 1, 0, ..., 1, 1, 1]])"
      ]
     },
     "execution_count": 3,
     "metadata": {},
     "output_type": "execute_result"
    }
   ],
   "source": [
    "mat = np.matrix(lines)\n",
    "mat"
   ]
  },
  {
   "cell_type": "code",
   "execution_count": 4,
   "id": "76560011-5729-42a2-8e04-74840eba8b30",
   "metadata": {},
   "outputs": [
    {
     "name": "stdout",
     "output_type": "stream",
     "text": [
      "That is a 1000x12 matrix.\n",
      "Sums: [[531 499 516 477 493 492 487 518 481 494 471 495]]\n",
      "Most frequent: [[1 0 1 0 0 0 0 1 0 0 0 0]]\n",
      "And therefore least: [[0 1 0 1 1 1 1 0 1 1 1 1]]\n",
      "And that is 2576*1519=3912944\n"
     ]
    }
   ],
   "source": [
    "M, N = mat.shape\n",
    "print(f'That is a {M}x{N} matrix.')\n",
    "\n",
    "sums = mat.sum(axis=0)\n",
    "print(f'Sums: {sums}')\n",
    "\n",
    "larger = lambda x, y: x>=y\n",
    "most = np.vectorize(larger)(sums, M*.5).astype(int)\n",
    "least = np.logical_not(most).astype(int)\n",
    "\n",
    "print(f'Most frequent: {most}\\nAnd therefore least: {least}')\n",
    "\n",
    "imost = matrix_to_int(most)\n",
    "ileast = matrix_to_int(least)\n",
    "\n",
    "print(f'And that is {imost}*{ileast}={imost*ileast}')"
   ]
  },
  {
   "cell_type": "markdown",
   "id": "c823ed3b-ff51-4f88-bb7f-742c222401fe",
   "metadata": {},
   "source": [
    "## Part 2"
   ]
  },
  {
   "cell_type": "code",
   "execution_count": 5,
   "id": "7ea68795-9027-43f4-ad73-63d396c63327",
   "metadata": {},
   "outputs": [
    {
     "name": "stdout",
     "output_type": "stream",
     "text": [
      "Bit 0\n",
      "That is a 1000x12 matrix.\n",
      "Sums: [531 499 516 477 493 492 487 518 481 494 471 495], so current bit is 1\n",
      "Remaining: 531\n",
      "Bit 1\n",
      "That is a 531x12 matrix.\n",
      "Sums: [531 272 279 250 264 261 251 281 265 261 262 271], so current bit is 1\n",
      "Remaining: 272\n",
      "Bit 2\n",
      "That is a 272x12 matrix.\n",
      "Sums: [272 272 145 131 128 131 120 146 136 119 129 138], so current bit is 1\n",
      "Remaining: 145\n",
      "Bit 3\n",
      "That is a 145x12 matrix.\n",
      "Sums: [145 145 145  65  58  67  66  81  69  66  73  70], so current bit is 0\n",
      "Remaining: 80\n",
      "Bit 4\n",
      "That is a 80x12 matrix.\n",
      "Sums: [80 80 80  0 36 40 33 47 39 40 38 38], so current bit is 0\n",
      "Remaining: 44\n",
      "Bit 5\n",
      "That is a 44x12 matrix.\n",
      "Sums: [44 44 44  0  0 21 18 24 22 22 18 21], so current bit is 0\n",
      "Remaining: 23\n",
      "Bit 6\n",
      "That is a 23x12 matrix.\n",
      "Sums: [23 23 23  0  0  0  8 13 11  9 10 11], so current bit is 0\n",
      "Remaining: 15\n",
      "Bit 7\n",
      "That is a 15x12 matrix.\n",
      "Sums: [15 15 15  0  0  0  0  7  7  7  6  7], so current bit is 0\n",
      "Remaining: 8\n",
      "Bit 8\n",
      "That is a 8x12 matrix.\n",
      "Sums: [8 8 8 0 0 0 0 0 4 3 3 4], so current bit is 1\n",
      "Remaining: 4\n",
      "Bit 9\n",
      "That is a 4x12 matrix.\n",
      "Sums: [4 4 4 0 0 0 0 0 4 2 0 2], so current bit is 1\n",
      "Remaining: 2\n",
      "Bit 10\n",
      "That is a 2x12 matrix.\n",
      "Sums: [2 2 2 0 0 0 0 0 2 2 0 1], so current bit is 0\n",
      "Remaining: 2\n",
      "Bit 11\n",
      "That is a 2x12 matrix.\n",
      "Sums: [2 2 2 0 0 0 0 0 2 2 0 1], so current bit is 1\n",
      "Remaining: 1\n",
      "Remaining vector: [[1 1 1 0 0 0 0 0 1 1 0 1]], that is 3597\n"
     ]
    }
   ],
   "source": [
    "submat = np.copy(mat)\n",
    "bit = 0\n",
    "while len(submat)>1:\n",
    "    print(f'Bit {bit}')\n",
    "    M, N = submat.shape\n",
    "    print(f'That is a {M}x{N} matrix.')\n",
    "    sums = submat.sum(axis=0)\n",
    "    most = np.vectorize(larger)(sums, M*.5).astype(int)\n",
    "    current_bit = np.ravel(most)[bit]\n",
    "    print(f'Sums: {sums}, so current bit is {current_bit}')\n",
    "    submat = submat[np.ravel(submat[:, bit]==current_bit),:]\n",
    "    print(f'Remaining: {len(submat)}')\n",
    "    bit += 1\n",
    "\n",
    "\n",
    "rating1 = matrix_to_int(submat)\n",
    "print(f'Remaining vector: {submat}, that is {rating1}')"
   ]
  },
  {
   "cell_type": "code",
   "execution_count": 6,
   "id": "8571b2c5-2cdf-45f0-ae45-7cc81c51dac7",
   "metadata": {},
   "outputs": [
    {
     "name": "stdout",
     "output_type": "stream",
     "text": [
      "Bit 0\n",
      "That is a 1000x12 matrix.\n",
      "Sums: [531 499 516 477 493 492 487 518 481 494 471 495], so current bit is 0\n",
      "Remaining: 469\n",
      "Bit 1\n",
      "That is a 469x12 matrix.\n",
      "Sums: [  0 227 237 227 229 231 236 237 216 233 209 224], so current bit is 1\n",
      "Remaining: 227\n",
      "Bit 2\n",
      "That is a 227x12 matrix.\n",
      "Sums: [  0 227 116 106 117 108 119 114 104 113 105 110], so current bit is 0\n",
      "Remaining: 111\n",
      "Bit 3\n",
      "That is a 111x12 matrix.\n",
      "Sums: [  0 111   0  48  60  54  54  54  52  55  55  58], so current bit is 1\n",
      "Remaining: 48\n",
      "Bit 4\n",
      "That is a 48x12 matrix.\n",
      "Sums: [ 0 48  0 48 28 20 20 24 23 25 26 28], so current bit is 0\n",
      "Remaining: 20\n",
      "Bit 5\n",
      "That is a 20x12 matrix.\n",
      "Sums: [ 0 20  0 20  0  5 10 10  9  9 10 13], so current bit is 1\n",
      "Remaining: 5\n",
      "Bit 6\n",
      "That is a 5x12 matrix.\n",
      "Sums: [0 5 0 5 0 5 2 4 3 2 2 3], so current bit is 1\n",
      "Remaining: 2\n",
      "Bit 7\n",
      "That is a 2x12 matrix.\n",
      "Sums: [0 2 0 2 0 2 2 1 2 2 1 2], so current bit is 0\n",
      "Remaining: 1\n",
      "Remaining vector: [[0 1 0 1 0 1 1 0 1 1 0 1]], that is 1389\n"
     ]
    }
   ],
   "source": [
    "submat = np.copy(mat)\n",
    "bit = 0\n",
    "while len(submat)>1:\n",
    "    print(f'Bit {bit}')\n",
    "    M, N = submat.shape\n",
    "    print(f'That is a {M}x{N} matrix.')\n",
    "    sums = submat.sum(axis=0)\n",
    "    most = np.vectorize(larger)(sums, M*.5).astype(int)\n",
    "    least = np.logical_not(most).astype(int)\n",
    "    current_bit = np.ravel(least)[bit]\n",
    "    print(f'Sums: {sums}, so current bit is {current_bit}')\n",
    "    submat = submat[np.ravel(submat[:, bit]==current_bit),:]\n",
    "    print(f'Remaining: {len(submat)}')\n",
    "    bit += 1\n",
    "\n",
    "\n",
    "rating2 = matrix_to_int(submat)\n",
    "print(f'Remaining vector: {submat}, that is {rating2}')"
   ]
  },
  {
   "cell_type": "code",
   "execution_count": 7,
   "id": "75042fe0-1788-48b7-8f71-938c68f364fa",
   "metadata": {},
   "outputs": [
    {
     "name": "stdout",
     "output_type": "stream",
     "text": [
      "Result is 4996233\n"
     ]
    }
   ],
   "source": [
    "print(f'Result is {rating1*rating2}')"
   ]
  },
  {
   "cell_type": "code",
   "execution_count": null,
   "id": "dcc94abd-848b-4d72-bc92-b4d4cf8bd89d",
   "metadata": {},
   "outputs": [],
   "source": []
  }
 ],
 "metadata": {
  "kernelspec": {
   "display_name": "Python 3 (ipykernel)",
   "language": "python",
   "name": "python3"
  },
  "language_info": {
   "codemirror_mode": {
    "name": "ipython",
    "version": 3
   },
   "file_extension": ".py",
   "mimetype": "text/x-python",
   "name": "python",
   "nbconvert_exporter": "python",
   "pygments_lexer": "ipython3",
   "version": "3.9.7"
  }
 },
 "nbformat": 4,
 "nbformat_minor": 5
}
