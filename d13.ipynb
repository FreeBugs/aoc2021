{
 "cells": [
  {
   "cell_type": "markdown",
   "id": "b3e694f0-d6c3-4831-9435-397e552fe686",
   "metadata": {},
   "source": [
    "# ~~~~~ Day 13 ~~~~~ \n",
    "## Part 1"
   ]
  },
  {
   "cell_type": "code",
   "execution_count": 1,
   "id": "96902a3e-bb0d-4024-b32c-293fc1d1fe04",
   "metadata": {},
   "outputs": [
    {
     "name": "stdout",
     "output_type": "stream",
     "text": [
      "[(1148, 688), (1020, 159), (857, 707), (1176, 415), (388, 275)]\n",
      "[('x', 655), ('y', 447), ('x', 327), ('y', 223), ('x', 163)]\n"
     ]
    }
   ],
   "source": [
    "from operator import itemgetter\n",
    "import numpy as np\n",
    "import pandas as pd\n",
    "import matplotlib\n",
    "import matplotlib.pyplot as plt\n",
    "\n",
    "plt.rcParams.update({\n",
    "    \"lines.color\": \"white\",\n",
    "    \"patch.edgecolor\": \"white\",\n",
    "    \"text.color\": \"black\",\n",
    "    \"axes.facecolor\": \"white\",\n",
    "    \"axes.edgecolor\": \"lightgray\",\n",
    "    \"axes.labelcolor\": \"white\",\n",
    "    \"xtick.color\": \"white\",\n",
    "    \"ytick.color\": \"white\",\n",
    "    \"grid.color\": \"lightgray\",\n",
    "    \"figure.facecolor\": \"black\",\n",
    "    \"figure.edgecolor\": \"black\",\n",
    "    \"savefig.facecolor\": \"black\",\n",
    "    \"savefig.edgecolor\": \"black\"})\n",
    "\n",
    "with open('d13.txt', 'r') as f:\n",
    "    content = f.readlines()\n",
    "\n",
    "data = [(int(c[0]), int(c[1])) for c in [d.strip('\\n').split(',') for d in content[:content.index('\\n')]]]\n",
    "folds = [(l[l.index('=')-1:l.index('=')], int(l[l.index('=')+1:].strip('\\n'))) for l in content[content.index('\\n')+1:]]\n",
    "print(data[:5])\n",
    "print(folds[:5])"
   ]
  },
  {
   "cell_type": "code",
   "execution_count": 2,
   "id": "d2986a7e-e65c-4ab2-a0dd-006532977e22",
   "metadata": {},
   "outputs": [],
   "source": [
    "max_x = max(data, key=itemgetter(0))[0]\n",
    "max_y = max(data, key=itemgetter(1))[1]\n",
    "grid = np.zeros(shape=(max_y+1, max_x+1), dtype=int)\n",
    "for x, y in data:\n",
    "    grid[y, x] = 1"
   ]
  },
  {
   "cell_type": "code",
   "execution_count": 3,
   "id": "ee049ea7-1391-4c73-88b6-2c8ce984db37",
   "metadata": {},
   "outputs": [
    {
     "name": "stdout",
     "output_type": "stream",
     "text": [
      "Fold 1 (x, 655), visible points: 781\n",
      "Fold 2 (y, 447), visible points: 653\n",
      "Fold 3 (x, 327), visible points: 540\n",
      "Fold 4 (y, 223), visible points: 455\n",
      "Fold 5 (x, 163), visible points: 376\n",
      "Fold 6 (y, 111), visible points: 315\n",
      "Fold 7 (x, 81), visible points: 261\n",
      "Fold 8 (y, 55), visible points: 219\n",
      "Fold 9 (x, 40), visible points: 181\n",
      "Fold 10 (y, 27), visible points: 150\n",
      "Fold 11 (y, 13), visible points: 123\n",
      "Fold 12 (y, 6), visible points: 99\n"
     ]
    }
   ],
   "source": [
    "current_grid = grid.copy()\n",
    "i = 0\n",
    "for fold_ax, fold_i in folds:\n",
    "    i += 1\n",
    "    if fold_ax == 'y':\n",
    "        grid1 = current_grid[:fold_i]\n",
    "        grid2 = np.flip(current_grid[fold_i+1:], axis=0)\n",
    "        grid_diff = grid2.shape[0]-grid1.shape[0]\n",
    "        if grid_diff < 0:\n",
    "            g = np.zeros(shape=(grid1.shape[0], grid1.shape[1]), dtype=int)\n",
    "            g[-grid_diff:] = grid2\n",
    "            grid2 = g\n",
    "        current_grid = grid1 | grid2\n",
    "    if fold_ax == 'x':\n",
    "        grid1 = current_grid[:,:fold_i]\n",
    "        grid2 = np.flip(current_grid[:,fold_i+1:], axis=1)\n",
    "        current_grid = grid1 | grid2\n",
    "    print(f'Fold {i} ({fold_ax}, {fold_i}), visible points: {np.sum(current_grid == 1)}')"
   ]
  },
  {
   "cell_type": "code",
   "execution_count": 4,
   "id": "347fa0e0-c350-4cd8-abd7-47e152f7d316",
   "metadata": {},
   "outputs": [
    {
     "data": {
      "text/plain": [
       "<matplotlib.image.AxesImage at 0x7f1d002db8e0>"
      ]
     },
     "execution_count": 4,
     "metadata": {},
     "output_type": "execute_result"
    },
    {
     "data": {
      "image/png": "[encoded data removed]",
      "text/plain": [
       "<Figure size 576x576 with 1 Axes>"
      ]
     },
     "metadata": {},
     "output_type": "display_data"
    }
   ],
   "source": [
    "fig, ax = plt.subplots(1, figsize=(8,8))\n",
    "ax.imshow(current_grid*np.arange(1, current_grid.shape[1]+1), cmap='gist_earth', vmin=0, vmax=current_grid.shape[1]+2)"
   ]
  },
  {
   "cell_type": "markdown",
   "id": "c823ed3b-ff51-4f88-bb7f-742c222401fe",
   "metadata": {
    "tags": []
   },
   "source": [
    "## Part 2"
   ]
  },
  {
   "cell_type": "code",
   "execution_count": 5,
   "id": "9d948798-82db-436f-961c-2058196e7ba5",
   "metadata": {},
   "outputs": [],
   "source": [
    "# already done in part 1"
   ]
  }
 ],
 "metadata": {
  "kernelspec": {
   "display_name": "Python 3 (ipykernel)",
   "language": "python",
   "name": "python3"
  },
  "language_info": {
   "codemirror_mode": {
    "name": "ipython",
    "version": 3
   },
   "file_extension": ".py",
   "mimetype": "text/x-python",
   "name": "python",
   "nbconvert_exporter": "python",
   "pygments_lexer": "ipython3",
   "version": "3.9.7"
  }
 },
 "nbformat": 4,
 "nbformat_minor": 5
}
