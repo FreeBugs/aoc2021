{
 "cells": [
  {
   "cell_type": "markdown",
   "id": "b3e694f0-d6c3-4831-9435-397e552fe686",
   "metadata": {},
   "source": [
    "# ~~~~~ Day 17 ~~~~~ \n",
    "## Part 1 & 2"
   ]
  },
  {
   "cell_type": "code",
   "execution_count": 1,
   "id": "96902a3e-bb0d-4024-b32c-293fc1d1fe04",
   "metadata": {},
   "outputs": [
    {
     "name": "stdout",
     "output_type": "stream",
     "text": [
      "Target area x(119, 176), y(-141, -84)\n"
     ]
    }
   ],
   "source": [
    "import numpy as np\n",
    "import matplotlib.pyplot as plt\n",
    "import re\n",
    "\n",
    "with open('d17.txt', 'r') as f:\n",
    "    content = f.readlines()\n",
    "\n",
    "m = re.compile(r'^target\\sarea\\:\\sx=(?P<x1>\\-?\\d+)\\.+(?P<x2>\\-?\\d+),\\sy=(?P<y1>\\-?\\d+)\\.+(?P<y2>\\-?\\d+)$').match(content[0].strip())\n",
    "x1 = int(m.group('x1'))\n",
    "x2 = int(m.group('x2'))\n",
    "y1 = int(m.group('y1'))\n",
    "y2 = int(m.group('y2'))\n",
    "print(f'Target area x({x1}, {x2}), y({y1}, {y2})')"
   ]
  },
  {
   "cell_type": "code",
   "execution_count": 2,
   "id": "161617db-836b-4d98-8a43-8a448857123f",
   "metadata": {},
   "outputs": [
    {
     "name": "stdout",
     "output_type": "stream",
     "text": [
      "5523\n"
     ]
    }
   ],
   "source": [
    "def get_trajectory(vx, vy, tx1, tx2, ty1, ty2):\n",
    "    trajectory = []\n",
    "    x = 0\n",
    "    y = 0\n",
    "    on_target = False\n",
    "    overshoot = False\n",
    "    while not (on_target or overshoot):\n",
    "        x += vx\n",
    "        y += vy\n",
    "        trajectory.append((x, y))\n",
    "        \n",
    "        overshoot = x > max([x1, x2]) or y < min([y1, y2])\n",
    "        if overshoot: break\n",
    "        on_target = x <= max([x1, x2]) and y >= min([y1, y2]) and x >= min([x1, x2]) and y <= max([y1, y2])\n",
    "        if on_target: break\n",
    "        \n",
    "        if vx > 0: vx -= 1\n",
    "        if vx < 0: vx = 0\n",
    "        vy -= 1\n",
    "    return on_target, trajectory\n",
    "\n",
    "trajectories = []\n",
    "n_on_target = 0\n",
    "for vy in range(-250, 250):\n",
    "    for vx in range(1, 200):\n",
    "        ot, t = get_trajectory(vx, vy, x1, x2, y1, y2)\n",
    "        if ot: \n",
    "            n_on_target += 1\n",
    "            trajectories.append((vx, vy, t))\n",
    "        \n",
    "print(n_on_target)\n",
    "#for vx, vy, t in trajectories:\n",
    "#    print(vx, vy, max([y for x, y in t]))"
   ]
  },
  {
   "cell_type": "code",
   "execution_count": 3,
   "id": "1300c06d-0223-4c10-b091-eb4ce0a60f53",
   "metadata": {},
   "outputs": [],
   "source": [
    "# just don't plot 5523 line plots\n",
    "\n",
    "#fig, ax = plt.subplots(figsize=(12,10))\n",
    "#for vx, vy, t in trajectories:\n",
    "#    ax.plot(*zip(*t))    \n",
    "#    ax.scatter(*zip(*t), marker='o')"
   ]
  },
  {
   "cell_type": "code",
   "execution_count": 4,
   "id": "12f22023-7ee6-4869-bd41-7206760009b0",
   "metadata": {},
   "outputs": [
    {
     "data": {
      "text/plain": [
       "9870"
      ]
     },
     "execution_count": 4,
     "metadata": {},
     "output_type": "execute_result"
    }
   ],
   "source": [
    "max([max([y for x, y in t]) for vx, vy, t in trajectories])"
   ]
  }
 ],
 "metadata": {
  "kernelspec": {
   "display_name": "Python 3 (ipykernel)",
   "language": "python",
   "name": "python3"
  },
  "language_info": {
   "codemirror_mode": {
    "name": "ipython",
    "version": 3
   },
   "file_extension": ".py",
   "mimetype": "text/x-python",
   "name": "python",
   "nbconvert_exporter": "python",
   "pygments_lexer": "ipython3",
   "version": "3.9.7"
  }
 },
 "nbformat": 4,
 "nbformat_minor": 5
}
