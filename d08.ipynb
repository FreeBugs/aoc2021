{
 "cells": [
  {
   "cell_type": "markdown",
   "id": "b3e694f0-d6c3-4831-9435-397e552fe686",
   "metadata": {},
   "source": [
    "# ~~~~~ Day 8 ~~~~~ \n",
    "## Part 1"
   ]
  },
  {
   "cell_type": "code",
   "execution_count": 122,
   "id": "96902a3e-bb0d-4024-b32c-293fc1d1fe04",
   "metadata": {},
   "outputs": [],
   "source": [
    "import numpy as np\n",
    "import pandas as pd\n",
    "\n",
    "with open('d08_test.txt', 'r') as f:\n",
    "    content = f.readlines()\n",
    "\n",
    "data = [(d[0].strip(' '), d[1].strip(' ').strip('\\n')) for d in [l.split('|') for l in content]]"
   ]
  },
  {
   "cell_type": "code",
   "execution_count": 123,
   "id": "978f11bb-68c3-4b05-81a2-c0d34c71e3dd",
   "metadata": {},
   "outputs": [
    {
     "data": {
      "text/plain": [
       "26"
      ]
     },
     "execution_count": 123,
     "metadata": {},
     "output_type": "execute_result"
    }
   ],
   "source": [
    "counts = np.matrix([[len(c) for c in b] for b in [f for f in [s.split(' ') for s in [b for a, b in data]]]])\n",
    "n = []\n",
    "for i in [2, 4, 3, 7]:\n",
    "    n.append((counts==i).sum())\n",
    "sum(n)"
   ]
  },
  {
   "cell_type": "markdown",
   "id": "c823ed3b-ff51-4f88-bb7f-742c222401fe",
   "metadata": {},
   "source": [
    "## Part 2"
   ]
  },
  {
   "cell_type": "code",
   "execution_count": 125,
   "id": "15998f8e-c9b4-415c-86d5-a512fdc6bc44",
   "metadata": {},
   "outputs": [
    {
     "name": "stdout",
     "output_type": "stream",
     "text": [
      "fdgacbe cefdb cefbgd gcbe   8394\n",
      "fcgedb cgb dgebacf gc   9781\n",
      "cg cg fdcagb cbg   1197\n",
      "efabcd cedba gadfec cb   9361\n",
      "gecf egdcabf bgf bfgea   4873\n",
      "gebdcfa ecba ca fadegcb   8418\n",
      "cefg dcbef fcge gbcadfe   4548\n",
      "ed bcgafe cdgba cbgef   1605\n",
      "gbdfcae bgc cg cgb   8717\n",
      "fgae cfgab fg bagce   4315\n",
      "['8394', '9781', '1197', '9361', '4873', '8418', '4548', '1605', '8717', '4315']\n",
      "Sum: 61209\n"
     ]
    }
   ],
   "source": [
    "#  0000                       0000      0000     0000      0000    0000     0000      0000\n",
    "# 5    1    5    1       1        1    5    1        1    5            1   5         5    1 \n",
    "# 5    1    5    1       1        1    5    1        1    5            1   5         5    1\n",
    "#  6666      6666                                6666      6666    6666     6666      6666\n",
    "# 4    2         2       2        2    4    2   4              2       1   4    2         2\n",
    "# 4    2         2       2        2    4    2   4              2       1   4    2         2\n",
    "#  3333                                 3333     3333      3333    3333     3333      3333\n",
    "numbers = []\n",
    "for pattern, value in data:\n",
    "    sorted_pattern = [sorted(s) for s in pattern.split(' ')]\n",
    "    patterns = [\n",
    "        set(''), \n",
    "        set(*filter(lambda p: len(p)==2, sorted_pattern)),\n",
    "        set(''),\n",
    "        set(''), \n",
    "        set(*filter(lambda p: len(p)==4, sorted_pattern)),\n",
    "        set(''), \n",
    "        set(''), \n",
    "        set(*filter(lambda p: len(p)==3, sorted_pattern)), \n",
    "        set(*filter(lambda p: len(p)==7, sorted_pattern)),\n",
    "        set('')\n",
    "    ]\n",
    "    patterns[3] = set(*filter(lambda p: len(p)==5 and len(set(p)-patterns[7])==2, sorted_pattern))\n",
    "    patterns[9] = set(*filter(lambda p: len(p)==6 and len(set(p)-patterns[3])==1, sorted_pattern))\n",
    "    patterns[0] = set(*filter(lambda p: len(p)==5 and len(set(p)-patterns[1])==4 and len(set(p)-patterns[9])==1, sorted_pattern))\n",
    "    sorted_pattern = [*filter(lambda p: set(p) not in patterns, sorted_pattern)]\n",
    "    patterns[5] = set(*filter(lambda p: len(p)==5 and len(set(p)-patterns[9])==0, sorted_pattern))\n",
    "    sorted_pattern = [*filter(lambda p: set(p) not in patterns, sorted_pattern)]\n",
    "    patterns[6] = set(*filter(lambda p: len(set(p)-patterns[1])==5, sorted_pattern))\n",
    "    sorted_pattern = [*filter(lambda p: set(p) not in patterns, sorted_pattern)]\n",
    "    patterns[2] = set(*filter(lambda p: set(p) not in patterns, sorted_pattern))\n",
    "    \n",
    "    s = ''\n",
    "    for v in value.split(' '):\n",
    "        for i in range(0,10):\n",
    "            if set(v) == patterns[i]:\n",
    "                s += f'{i}' \n",
    "    numbers.append(s)\n",
    "    print(value, ' ', s)\n",
    "    \n",
    "print(numbers)\n",
    "print(f'Sum: {sum([int(n) for n in numbers])}')"
   ]
  },
  {
   "cell_type": "code",
   "execution_count": null,
   "id": "25c3b7f0-0f53-4294-b9cd-c89fa9fc19c6",
   "metadata": {},
   "outputs": [],
   "source": [
    "\n",
    "    fdgacbe cefdb cefbgd gcbe: 8394\n",
    "    fcgedb cgb dgebacf gc: 9781\n",
    "    cg cg fdcagb cbg: 1197\n",
    "    efabcd cedba gadfec cb: 9361\n",
    "    gecf egdcabf bgf bfgea: 4873\n",
    "    gebdcfa ecba ca fadegcb: 8418\n",
    "    cefg dcbef fcge gbcadfe: 4548\n",
    "    ed bcgafe cdgba cbgef: 1625\n",
    "    gbdfcae bgc cg cgb: 8717\n",
    "    fgae cfgab fg bagce: 4315\n"
   ]
  },
  {
   "cell_type": "code",
   "execution_count": 131,
   "id": "956328fc-b32b-45a5-955e-96000888e875",
   "metadata": {},
   "outputs": [],
   "source": [
    "pattern = 'bdfegc cbegaf gecbf dfcage bdacg ed bedf ced adcbefg gebcd'\n",
    "value = 'ed bcgafe cdgba cbgef'\n",
    "sorted_pattern = [sorted(s) for s in pattern.split(' ')]\n",
    "patterns = [\n",
    "    set(''), \n",
    "    set(*filter(lambda p: len(p)==2, sorted_pattern)),\n",
    "    set(''),\n",
    "    set(''), \n",
    "    set(*filter(lambda p: len(p)==4, sorted_pattern)),\n",
    "    set(''), \n",
    "    set(''), \n",
    "    set(*filter(lambda p: len(p)==3, sorted_pattern)), \n",
    "    set(*filter(lambda p: len(p)==7, sorted_pattern)),\n",
    "    set('')\n",
    "]\n",
    "patterns[3] = set(*filter(lambda p: len(p)==5 and len(set(p)-patterns[7])==2, sorted_pattern))\n",
    "patterns[9] = set(*filter(lambda p: len(p)==6 and len(set(p)-patterns[3])==1, sorted_pattern))\n",
    "patterns[0] = set(*filter(lambda p: len(p)==5 and len(set(p)-patterns[1])==4 and len(set(p)-patterns[9])==1, sorted_pattern))\n",
    "sorted_pattern = [*filter(lambda p: set(p) not in patterns, sorted_pattern)]\n",
    "patterns[5] = set(*filter(lambda p: len(p)==5 and len(set(p)-patterns[9])==0, sorted_pattern))\n",
    "sorted_pattern = [*filter(lambda p: set(p) not in patterns, sorted_pattern)]\n",
    "patterns[6] = set(*filter(lambda p: len(set(p)-patterns[1])==5, sorted_pattern))\n",
    "sorted_pattern = [*filter(lambda p: set(p) not in patterns, sorted_pattern)]\n",
    "patterns[2] = set(*filter(lambda p: set(p) not in patterns, sorted_pattern))\n",
    "\n",
    "\n",
    "s = ''\n",
    "for v in value.split(' '):\n",
    "    for i in range(0,10):\n",
    "        if set(v) == patterns[i]:\n",
    "            s += f'{i}' \n",
    "#print(value, ' ', s)"
   ]
  },
  {
   "cell_type": "code",
   "execution_count": 132,
   "id": "bcdc9666-386e-49d0-9be1-2ae6a9447d79",
   "metadata": {},
   "outputs": [
    {
     "data": {
      "text/plain": [
       "[{'a', 'b', 'c', 'd', 'g'},\n",
       " {'d', 'e'},\n",
       " {'a', 'c', 'd', 'e', 'f', 'g'},\n",
       " {'b', 'c', 'd', 'e', 'g'},\n",
       " {'b', 'd', 'e', 'f'},\n",
       " {'b', 'c', 'e', 'f', 'g'},\n",
       " {'a', 'b', 'c', 'e', 'f', 'g'},\n",
       " {'c', 'd', 'e'},\n",
       " {'a', 'b', 'c', 'd', 'e', 'f', 'g'},\n",
       " {'b', 'c', 'd', 'e', 'f', 'g'}]"
      ]
     },
     "execution_count": 132,
     "metadata": {},
     "output_type": "execute_result"
    }
   ],
   "source": [
    "patterns"
   ]
  },
  {
   "cell_type": "code",
   "execution_count": null,
   "id": "da2ddeea-e661-4332-a073-b489445157b8",
   "metadata": {},
   "outputs": [],
   "source": []
  }
 ],
 "metadata": {
  "kernelspec": {
   "display_name": "Python 3 (ipykernel)",
   "language": "python",
   "name": "python3"
  },
  "language_info": {
   "codemirror_mode": {
    "name": "ipython",
    "version": 3
   },
   "file_extension": ".py",
   "mimetype": "text/x-python",
   "name": "python",
   "nbconvert_exporter": "python",
   "pygments_lexer": "ipython3",
   "version": "3.9.7"
  }
 },
 "nbformat": 4,
 "nbformat_minor": 5
}
