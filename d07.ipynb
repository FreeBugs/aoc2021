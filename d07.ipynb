{
 "cells": [
  {
   "cell_type": "markdown",
   "id": "b3e694f0-d6c3-4831-9435-397e552fe686",
   "metadata": {},
   "source": [
    "# ~~~~~ Day 6 ~~~~~ \n",
    "## Part 1"
   ]
  },
  {
   "cell_type": "code",
   "execution_count": 1,
   "id": "96902a3e-bb0d-4024-b32c-293fc1d1fe04",
   "metadata": {},
   "outputs": [],
   "source": [
    "import numpy as np\n",
    "import math\n",
    "import matplotlib\n",
    "import matplotlib.pyplot as plt\n",
    "from matplotlib.animation import FuncAnimation\n",
    "\n",
    "plt.rcParams.update({\n",
    "    \"lines.color\": \"white\",\n",
    "    \"patch.edgecolor\": \"white\",\n",
    "    \"text.color\": \"black\",\n",
    "    \"axes.facecolor\": \"white\",\n",
    "    \"axes.edgecolor\": \"lightgray\",\n",
    "    \"axes.labelcolor\": \"white\",\n",
    "    \"xtick.color\": \"white\",\n",
    "    \"ytick.color\": \"white\",\n",
    "    \"grid.color\": \"lightgray\",\n",
    "    \"figure.facecolor\": \"black\",\n",
    "    \"figure.edgecolor\": \"black\",\n",
    "    \"savefig.facecolor\": \"black\",\n",
    "    \"savefig.edgecolor\": \"black\"})\n",
    "\n",
    "with open('d07.txt', 'r') as f:\n",
    "    content = f.readlines()\n",
    "crab0 = np.array([int(t) for t in content[0].strip('\\n').split(',')])"
   ]
  },
  {
   "cell_type": "code",
   "execution_count": 2,
   "id": "452cf934-d5b3-4cef-8985-a24a1aaa3fba",
   "metadata": {},
   "outputs": [
    {
     "name": "stdout",
     "output_type": "stream",
     "text": [
      "Fuel: 337833\n"
     ]
    }
   ],
   "source": [
    "min_crab = np.min(crab0)\n",
    "max_crab = np.max(crab0)\n",
    "\n",
    "crab_o_matrix = np.zeros(shape=(max_crab-min_crab, crab0.shape[0]), dtype=int)\n",
    "\n",
    "for i in range(min_crab, max_crab):\n",
    "    crab_o_matrix[i] = np.abs(i-crab0)\n",
    "\n",
    "distance_sums = np.sum(crab_o_matrix, axis=1)\n",
    "\n",
    "print(f'Fuel: {np.min(distance_sums)}')"
   ]
  },
  {
   "cell_type": "markdown",
   "id": "c823ed3b-ff51-4f88-bb7f-742c222401fe",
   "metadata": {},
   "source": [
    "## Part 2"
   ]
  },
  {
   "cell_type": "code",
   "execution_count": 3,
   "id": "986e8f2d-1e65-4f24-bf8b-700693e619a2",
   "metadata": {},
   "outputs": [
    {
     "name": "stdout",
     "output_type": "stream",
     "text": [
      "Fuel: 96678050\n"
     ]
    }
   ],
   "source": [
    "min2 = np.min(np.sum(np.vectorize(lambda i: sum(range(0,i+1)))(crab_o_matrix), axis=1))\n",
    "\n",
    "print(f'Fuel: {min2}')"
   ]
  }
 ],
 "metadata": {
  "kernelspec": {
   "display_name": "Python 3 (ipykernel)",
   "language": "python",
   "name": "python3"
  },
  "language_info": {
   "codemirror_mode": {
    "name": "ipython",
    "version": 3
   },
   "file_extension": ".py",
   "mimetype": "text/x-python",
   "name": "python",
   "nbconvert_exporter": "python",
   "pygments_lexer": "ipython3",
   "version": "3.9.7"
  }
 },
 "nbformat": 4,
 "nbformat_minor": 5
}
