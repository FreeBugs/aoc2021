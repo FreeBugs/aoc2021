{
 "cells": [
  {
   "cell_type": "markdown",
   "id": "b3e694f0-d6c3-4831-9435-397e552fe686",
   "metadata": {},
   "source": [
    "# ~~~~~ Day 11 ~~~~~ \n",
    "## Part 1"
   ]
  },
  {
   "cell_type": "code",
   "execution_count": 45,
   "id": "96902a3e-bb0d-4024-b32c-293fc1d1fe04",
   "metadata": {},
   "outputs": [
    {
     "name": "stdout",
     "output_type": "stream",
     "text": [
      "(10, 10)\n"
     ]
    },
    {
     "data": {
      "text/plain": [
       "array([[6, 3, 1, 8, 1, 8, 5, 7, 3, 2],\n",
       "       [1, 1, 2, 2, 6, 8, 7, 1, 3, 5],\n",
       "       [5, 1, 7, 3, 2, 3, 7, 6, 7, 6],\n",
       "       [8, 7, 5, 4, 3, 6, 2, 6, 1, 2],\n",
       "       [5, 7, 1, 8, 4, 7, 4, 6, 6, 6],\n",
       "       [8, 4, 4, 3, 6, 5, 4, 1, 3, 7],\n",
       "       [1, 2, 4, 7, 6, 3, 4, 3, 4, 6],\n",
       "       [1, 4, 4, 6, 5, 1, 4, 5, 8, 5],\n",
       "       [6, 7, 1, 7, 2, 8, 8, 2, 6, 7],\n",
       "       [1, 7, 2, 7, 8, 7, 1, 2, 2, 8]])"
      ]
     },
     "execution_count": 45,
     "metadata": {},
     "output_type": "execute_result"
    }
   ],
   "source": [
    "import numpy as np\n",
    "import pandas as pd\n",
    "import matplotlib\n",
    "import matplotlib.pyplot as plt\n",
    "\n",
    "plt.rcParams.update({\n",
    "    \"lines.color\": \"white\",\n",
    "    \"patch.edgecolor\": \"white\",\n",
    "    \"text.color\": \"black\",\n",
    "    \"axes.facecolor\": \"white\",\n",
    "    \"axes.edgecolor\": \"lightgray\",\n",
    "    \"axes.labelcolor\": \"white\",\n",
    "    \"xtick.color\": \"white\",\n",
    "    \"ytick.color\": \"white\",\n",
    "    \"grid.color\": \"lightgray\",\n",
    "    \"figure.facecolor\": \"black\",\n",
    "    \"figure.edgecolor\": \"black\",\n",
    "    \"savefig.facecolor\": \"black\",\n",
    "    \"savefig.edgecolor\": \"black\"})\n",
    "\n",
    "with open('d11.txt', 'r') as f:\n",
    "    content = f.readlines()\n",
    "\n",
    "data = [[int(c) for c in list(d.strip('\\n'))] for d in content]\n",
    "octomap_start = np.asarray(data)\n",
    "print(octomap_start.shape)\n",
    "octomap_start"
   ]
  },
  {
   "cell_type": "code",
   "execution_count": 42,
   "id": "043c178e-c2c7-451b-963a-0828c3b1e8c8",
   "metadata": {},
   "outputs": [
    {
     "name": "stdout",
     "output_type": "stream",
     "text": [
      "1634\n"
     ]
    }
   ],
   "source": [
    "octomap = np.copy(octomap_start)\n",
    "\n",
    "flashes = 0\n",
    "for iteration in range(0, 100):\n",
    "    octomap += 1\n",
    "    while np.sum(octomap>9)>0:\n",
    "        flashed = np.where(octomap>9)\n",
    "        flashes += np.sum(octomap>9)\n",
    "        octomap[flashed] = -100\n",
    "        for flashy, flashx in zip(*flashed):\n",
    "            for y in range(-1, 2):\n",
    "                for x in range(-1, 2):\n",
    "                    if not (x==0 and y==0) and flashy+y >= 0 and flashx+x >= 0 and flashy+y < octomap.shape[0] and flashx+x < octomap.shape[1]:\n",
    "                        octomap[flashy+y, flashx+x] += 1\n",
    "    octomap[np.where(octomap<0)] = 0\n",
    "\n",
    "print(flashes)"
   ]
  },
  {
   "cell_type": "markdown",
   "id": "c823ed3b-ff51-4f88-bb7f-742c222401fe",
   "metadata": {
    "tags": []
   },
   "source": [
    "## Part 2"
   ]
  },
  {
   "cell_type": "code",
   "execution_count": 46,
   "id": "dde7d61d-48af-4e66-9406-c83007c16276",
   "metadata": {},
   "outputs": [
    {
     "name": "stdout",
     "output_type": "stream",
     "text": [
      "210\n"
     ]
    }
   ],
   "source": [
    "octomap = np.copy(octomap_start)\n",
    "\n",
    "iteration = 0\n",
    "while np.sum(octomap != 0):\n",
    "    iteration += 1\n",
    "    octomap += 1\n",
    "    while np.sum(octomap>9)>0:\n",
    "        flashed = np.where(octomap>9)\n",
    "        octomap[flashed] = -100\n",
    "        for flashy, flashx in zip(*flashed):\n",
    "            for y in range(-1, 2):\n",
    "                for x in range(-1, 2):\n",
    "                    if not (x==0 and y==0) and flashy+y >= 0 and flashx+x >= 0 and flashy+y < octomap.shape[0] and flashx+x < octomap.shape[1]:\n",
    "                        octomap[flashy+y, flashx+x] += 1\n",
    "    octomap[np.where(octomap<0)] = 0\n",
    "\n",
    "print(iteration)"
   ]
  },
  {
   "cell_type": "code",
   "execution_count": 61,
   "id": "04efaef9-79d3-44b0-bae3-3b60f12074aa",
   "metadata": {},
   "outputs": [],
   "source": [
    "octo = plt.imread('octo.png')"
   ]
  },
  {
   "cell_type": "code",
   "execution_count": 58,
   "id": "0405ee55-8c1b-4c2b-ab12-992be25eb988",
   "metadata": {},
   "outputs": [
    {
     "data": {
      "text/plain": [
       "Text(1, 1, '🐙')"
      ]
     },
     "execution_count": 58,
     "metadata": {},
     "output_type": "execute_result"
    },
    {
     "name": "stderr",
     "output_type": "stream",
     "text": [
      "/opt/conda/lib/python3.9/site-packages/matplotlib/backends/backend_agg.py:240: RuntimeWarning: Glyph 128025 missing from current font.\n",
      "  font.set_text(s, 0.0, flags=flags)\n",
      "/opt/conda/lib/python3.9/site-packages/matplotlib/backends/backend_agg.py:203: RuntimeWarning: Glyph 128025 missing from current font.\n",
      "  font.set_text(s, 0, flags=flags)\n"
     ]
    },
    {
     "data": {
      "image/png": "[encoded data removed]",
      "text/plain": [
       "<Figure size 864x720 with 1 Axes>"
      ]
     },
     "metadata": {},
     "output_type": "display_data"
    }
   ],
   "source": [
    "#plt.figure(figsize=(12,10))\n",
    "fig, ax = plt.subplots(1, figsize=(12,10))\n",
    "ax.imshow(octomap_start, cmap='hot', vmin=0, vmax=32)\n",
    "ax.text(1, 1, '🐙', fontsize=10, color='white')\n",
    "#plt.colorbar()"
   ]
  },
  {
   "cell_type": "code",
   "execution_count": null,
   "id": "382e3a51-9422-44b4-83a2-85ad7b7447cf",
   "metadata": {},
   "outputs": [],
   "source": []
  }
 ],
 "metadata": {
  "kernelspec": {
   "display_name": "Python 3 (ipykernel)",
   "language": "python",
   "name": "python3"
  },
  "language_info": {
   "codemirror_mode": {
    "name": "ipython",
    "version": 3
   },
   "file_extension": ".py",
   "mimetype": "text/x-python",
   "name": "python",
   "nbconvert_exporter": "python",
   "pygments_lexer": "ipython3",
   "version": "3.9.7"
  }
 },
 "nbformat": 4,
 "nbformat_minor": 5
}
