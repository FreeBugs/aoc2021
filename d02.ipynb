{
 "cells": [
  {
   "cell_type": "markdown",
   "id": "b3e694f0-d6c3-4831-9435-397e552fe686",
   "metadata": {},
   "source": [
    "# ~~~~~ Day 2 ~~~~~ \n",
    "## Part 1"
   ]
  },
  {
   "cell_type": "code",
   "execution_count": 1,
   "id": "96902a3e-bb0d-4024-b32c-293fc1d1fe04",
   "metadata": {},
   "outputs": [],
   "source": [
    "with open('d02.txt', 'r') as f:\n",
    "    lines = [l.strip('\\n').split(' ') for l in f.readlines()]"
   ]
  },
  {
   "cell_type": "code",
   "execution_count": 2,
   "id": "76560011-5729-42a2-8e04-74840eba8b30",
   "metadata": {},
   "outputs": [
    {
     "name": "stdout",
     "output_type": "stream",
     "text": [
      "Horizontal: 1906\n",
      "Depth: 1017\n",
      "Result: 1938402\n"
     ]
    }
   ],
   "source": [
    "horizontal = 0\n",
    "depth = 0\n",
    "for l in lines:\n",
    "    cmd = l[0]\n",
    "    val = int(l[1])\n",
    "    if cmd == 'forward':\n",
    "        horizontal += val\n",
    "    elif cmd == 'down':\n",
    "        depth += val\n",
    "    elif cmd == 'up':\n",
    "        depth -= val\n",
    "    else:\n",
    "        print(f'Error cmd {cmd}')\n",
    "            \n",
    "print(f'Horizontal: {horizontal}\\nDepth: {depth}\\nResult: {horizontal*depth}')"
   ]
  },
  {
   "cell_type": "markdown",
   "id": "c823ed3b-ff51-4f88-bb7f-742c222401fe",
   "metadata": {},
   "source": [
    "## Part 2"
   ]
  },
  {
   "cell_type": "code",
   "execution_count": 3,
   "id": "7ea68795-9027-43f4-ad73-63d396c63327",
   "metadata": {},
   "outputs": [
    {
     "name": "stdout",
     "output_type": "stream",
     "text": [
      "Horizontal: 1906\n",
      "Depth: 1021972\n",
      "Result: 1947878632\n"
     ]
    }
   ],
   "source": [
    "aim = 0\n",
    "horizontal = 0\n",
    "depth = 0\n",
    "for l in lines:\n",
    "    cmd = l[0]\n",
    "    val = int(l[1])\n",
    "    if cmd == 'forward':\n",
    "        horizontal += val\n",
    "        depth += (aim * val)\n",
    "    elif cmd == 'down':\n",
    "        aim += val\n",
    "    elif cmd == 'up':\n",
    "        aim -= val\n",
    "    else:\n",
    "        print(f'Error cmd {cmd}')\n",
    "            \n",
    "print(f'Horizontal: {horizontal}\\nDepth: {depth}\\nResult: {horizontal*depth}')"
   ]
  },
  {
   "cell_type": "code",
   "execution_count": null,
   "id": "75042fe0-1788-48b7-8f71-938c68f364fa",
   "metadata": {},
   "outputs": [],
   "source": []
  }
 ],
 "metadata": {
  "kernelspec": {
   "display_name": "Python 3 (ipykernel)",
   "language": "python",
   "name": "python3"
  },
  "language_info": {
   "codemirror_mode": {
    "name": "ipython",
    "version": 3
   },
   "file_extension": ".py",
   "mimetype": "text/x-python",
   "name": "python",
   "nbconvert_exporter": "python",
   "pygments_lexer": "ipython3",
   "version": "3.9.7"
  }
 },
 "nbformat": 4,
 "nbformat_minor": 5
}
