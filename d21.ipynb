{
 "cells": [
  {
   "cell_type": "markdown",
   "id": "d5c75c5a-55b7-4a93-b964-07cf8865da0f",
   "metadata": {},
   "source": [
    "# Day 21"
   ]
  },
  {
   "cell_type": "markdown",
   "id": "2193449a-bbc8-421a-8a57-2a7cb1199ea1",
   "metadata": {},
   "source": [
    "## Part 1"
   ]
  },
  {
   "cell_type": "code",
   "execution_count": 42,
   "id": "71480917-4935-4d65-8247-6b9802585f08",
   "metadata": {},
   "outputs": [],
   "source": [
    "import functools"
   ]
  },
  {
   "cell_type": "code",
   "execution_count": 31,
   "id": "a9b1d16e-3791-41b4-bbcf-d2cf23c2dcb6",
   "metadata": {},
   "outputs": [],
   "source": [
    "start1 = 6\n",
    "start2 = 8\n",
    "#start1 = 4\n",
    "#start2 = 8"
   ]
  },
  {
   "cell_type": "code",
   "execution_count": 36,
   "id": "bc13f1fa-7397-4ae2-be0d-fbce325f37cd",
   "metadata": {},
   "outputs": [
    {
     "name": "stdout",
     "output_type": "stream",
     "text": [
      "Roll 1005 Player 1 wins.\n",
      "Part 1 result: 757770\n"
     ]
    }
   ],
   "source": [
    "def get_pos(p, d):\n",
    "    k = d % 10\n",
    "    p += k\n",
    "    if p > 10: p -= 10\n",
    "    return p\n",
    "    \n",
    "def turn(p, d):\n",
    "    score, pos = p\n",
    "    if d < 98:\n",
    "        s = get_pos(pos, 3 * (d + 2))\n",
    "        return (score + s, s), d + 3\n",
    "    if d == 98:\n",
    "        s = get_pos(pos, 200)\n",
    "        return (score + s, s), 1\n",
    "    if d == 99:\n",
    "        s = get_pos(pos, 103)\n",
    "        return (score + s, s), 2\n",
    "    if d == 100:\n",
    "        s = get_pos(pos, 6)\n",
    "        return (score + s, s), 3\n",
    "\n",
    "die = 0\n",
    "roll = 0\n",
    "player1 = (0, start1)\n",
    "player2 = (0, start2)\n",
    "threshold = 1000\n",
    "while not (player2[0] >= threshold or player1[0] >= threshold):\n",
    "    player1, die = turn(player1, die)\n",
    "    #print(f'Roll {roll} player 1: {player1}, die: {die}')\n",
    "    roll += 3\n",
    "    if player1[0] >= threshold: break\n",
    "    player2, die = turn(player2, die)\n",
    "    #print(f'Roll {roll} player 2: {player2}, die: {die}')\n",
    "    roll += 3\n",
    "    \n",
    "    \n",
    "print(f'Roll {roll} Player {1 if player1[0]>player2[0] else 2} wins.')\n",
    "print(f'Part 1 result: {(player2[0] if player1[0]>player2[0] else player1[0])*roll}')"
   ]
  },
  {
   "cell_type": "markdown",
   "id": "a2037e8f-8c47-425c-8296-dcc9349b54da",
   "metadata": {},
   "source": [
    "## Part 2"
   ]
  },
  {
   "cell_type": "code",
   "execution_count": 57,
   "id": "f489ad46-f0ad-40c9-8526-7103b411b440",
   "metadata": {},
   "outputs": [
    {
     "name": "stdout",
     "output_type": "stream",
     "text": [
      "Winner number of universes: 712381680443927\n"
     ]
    }
   ],
   "source": [
    "@functools.cache\n",
    "def quantum_turn(p1_score, p1_pos, p2_score, p2_pos, who):\n",
    "    if p1_score >= 21: return [1, 0]\n",
    "    if p2_score >= 21: return [0, 1]\n",
    "    turns = []\n",
    "    for a, b, c in [(a, b, c) for a in range(1, 4) for b in range(1, 4) for c in range(1, 4)]:\n",
    "        d = a + b + c\n",
    "        if who == 1:\n",
    "            turns.append(quantum_turn(p1_score+get_pos(p1_pos, d), get_pos(p1_pos, d), p2_score, p2_pos, 2))\n",
    "        else:\n",
    "            turns.append(quantum_turn(p1_score, p1_pos, p2_score+get_pos(p2_pos, d), get_pos(p2_pos, d), 1))\n",
    "    return sum([a for a, b in turns]), sum([b for a, b in turns])\n",
    "\n",
    "a, b = quantum_turn(0, start1, 0, start2, 1)\n",
    "print(f'Winner number of universes: {max(a, b)}')"
   ]
  },
  {
   "cell_type": "code",
   "execution_count": null,
   "id": "f1d8e13b-c0b0-4b57-8061-9733826e64f9",
   "metadata": {},
   "outputs": [],
   "source": []
  }
 ],
 "metadata": {
  "kernelspec": {
   "display_name": "Python 3 (ipykernel)",
   "language": "python",
   "name": "python3"
  },
  "language_info": {
   "codemirror_mode": {
    "name": "ipython",
    "version": 3
   },
   "file_extension": ".py",
   "mimetype": "text/x-python",
   "name": "python",
   "nbconvert_exporter": "python",
   "pygments_lexer": "ipython3",
   "version": "3.10.1"
  }
 },
 "nbformat": 4,
 "nbformat_minor": 5
}
