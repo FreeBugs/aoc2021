{
 "cells": [
  {
   "cell_type": "markdown",
   "id": "b3e694f0-d6c3-4831-9435-397e552fe686",
   "metadata": {},
   "source": [
    "# ~~~~~ Day 8 ~~~~~ \n",
    "## Part 1"
   ]
  },
  {
   "cell_type": "code",
   "execution_count": 1,
   "id": "96902a3e-bb0d-4024-b32c-293fc1d1fe04",
   "metadata": {},
   "outputs": [
    {
     "name": "stdout",
     "output_type": "stream",
     "text": [
      "(100, 100)\n"
     ]
    },
    {
     "data": {
      "text/plain": [
       "array([[5, 4, 5, ..., 8, 9, 9],\n",
       "       [4, 3, 4, ..., 6, 6, 8],\n",
       "       [1, 2, 9, ..., 4, 5, 7],\n",
       "       ...,\n",
       "       [1, 0, 1, ..., 9, 6, 7],\n",
       "       [2, 1, 2, ..., 4, 5, 6],\n",
       "       [3, 6, 5, ..., 2, 3, 7]])"
      ]
     },
     "execution_count": 1,
     "metadata": {},
     "output_type": "execute_result"
    }
   ],
   "source": [
    "import numpy as np\n",
    "import pandas as pd\n",
    "\n",
    "with open('d09.txt', 'r') as f:\n",
    "    content = f.readlines()\n",
    "\n",
    "data = [[int(c) for c in list(d.strip('\\n'))] for d in content]\n",
    "heightmap = np.asarray(data)\n",
    "print(heightmap.shape)\n",
    "heightmap"
   ]
  },
  {
   "cell_type": "code",
   "execution_count": 2,
   "id": "eb9cef8e-c444-4d07-b5f3-6416a2941987",
   "metadata": {},
   "outputs": [
    {
     "name": "stdout",
     "output_type": "stream",
     "text": [
      "(102, 102)\n"
     ]
    },
    {
     "data": {
      "text/plain": [
       "array([[99, 99, 99, ..., 99, 99, 99],\n",
       "       [99,  5,  4, ...,  9,  9, 99],\n",
       "       [99,  4,  3, ...,  6,  8, 99],\n",
       "       ...,\n",
       "       [99,  2,  1, ...,  5,  6, 99],\n",
       "       [99,  3,  6, ...,  3,  7, 99],\n",
       "       [99, 99, 99, ..., 99, 99, 99]])"
      ]
     },
     "execution_count": 2,
     "metadata": {},
     "output_type": "execute_result"
    }
   ],
   "source": [
    "padded_heightmap = np.full((heightmap.shape[0]+2, heightmap.shape[1]+2), 99, dtype=int)\n",
    "padded_heightmap[1:heightmap.shape[0]+1, 1:heightmap.shape[1]+1] = heightmap\n",
    "print(padded_heightmap.shape)\n",
    "padded_heightmap"
   ]
  },
  {
   "cell_type": "code",
   "execution_count": 3,
   "id": "a4296e89-d73d-4b22-8214-75ef38a0b81c",
   "metadata": {},
   "outputs": [],
   "source": [
    "shifted_heightmaps = []\n",
    "for d in [(0, 1), (1, 0), (0, -1), (-1, 0)]:\n",
    "    shifted_heightmaps.append(np.roll(padded_heightmap, d, axis=(0, 1)))\n",
    "heightmap_diffs = padded_heightmap[:, :, np.newaxis] < np.dstack(shifted_heightmaps)\n",
    "heightmap_diffs = heightmap_diffs[1:heightmap_diffs.shape[0]-1, 1:heightmap_diffs.shape[1]-1, :] # cut the edges"
   ]
  },
  {
   "cell_type": "code",
   "execution_count": 4,
   "id": "366a213a-0256-473d-bad0-a2ad206aa6ec",
   "metadata": {},
   "outputs": [
    {
     "name": "stdout",
     "output_type": "stream",
     "text": [
      "(100, 100, 4)\n",
      "Sum of risk levels: 506\n"
     ]
    }
   ],
   "source": [
    "print(heightmap_diffs.shape)\n",
    "risk_levels = heightmap[np.where(np.all(heightmap_diffs, axis=2))] + 1\n",
    "print(f'Sum of risk levels: {np.sum(risk_levels)}')"
   ]
  },
  {
   "cell_type": "markdown",
   "id": "c823ed3b-ff51-4f88-bb7f-742c222401fe",
   "metadata": {
    "tags": []
   },
   "source": [
    "## Part 2"
   ]
  },
  {
   "cell_type": "code",
   "execution_count": 5,
   "id": "9bbb4ed1-a005-4682-8f0e-01db09d6e3d0",
   "metadata": {},
   "outputs": [
    {
     "name": "stdout",
     "output_type": "stream",
     "text": [
      "931200\n"
     ]
    }
   ],
   "source": [
    "basins = np.zeros(heightmap.shape, dtype=int)\n",
    "basins[np.where(heightmap==9)] = -1\n",
    "low_points = np.where(np.all(heightmap_diffs, axis=2))\n",
    "\n",
    "i = 0\n",
    "for r, c in zip(*np.where(np.all(heightmap_diffs, axis=2))):\n",
    "    i += 1\n",
    "    basins[r, c] = i\n",
    "N = i\n",
    "\n",
    "i = 0\n",
    "while np.sum(basins == 0):\n",
    "    i += 1\n",
    "    if i > 1000: raise Exception('max iterations')\n",
    "    for r, c in zip(*np.where(basins==0)):\n",
    "        if r>0 and basins[r-1, c]>0:\n",
    "            basins[r, c] = basins[r-1, c]\n",
    "        elif r<basins.shape[0]-1 and basins[r+1, c]>0:\n",
    "            basins[r, c] = basins[r+1, c]\n",
    "        elif c>0 and basins[r, c-1]>0:\n",
    "            basins[r, c] = basins[r, c-1]\n",
    "        elif c<basins.shape[1]-1 and basins[r, c+1]>0:\n",
    "            basins[r, c] = basins[r, c+1]                \n",
    "\n",
    "sizes = []\n",
    "for i in range(0, N+1):\n",
    "    sizes.append(np.sum(basins==i))\n",
    "    \n",
    "print(np.prod(sorted(sizes, reverse=True)[:3]))"
   ]
  }
 ],
 "metadata": {
  "kernelspec": {
   "display_name": "Python 3 (ipykernel)",
   "language": "python",
   "name": "python3"
  },
  "language_info": {
   "codemirror_mode": {
    "name": "ipython",
    "version": 3
   },
   "file_extension": ".py",
   "mimetype": "text/x-python",
   "name": "python",
   "nbconvert_exporter": "python",
   "pygments_lexer": "ipython3",
   "version": "3.9.7"
  }
 },
 "nbformat": 4,
 "nbformat_minor": 5
}
