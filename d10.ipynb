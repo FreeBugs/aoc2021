{
 "cells": [
  {
   "cell_type": "markdown",
   "id": "b3e694f0-d6c3-4831-9435-397e552fe686",
   "metadata": {},
   "source": [
    "# ~~~~~ Day 8 ~~~~~ \n",
    "## Part 1"
   ]
  },
  {
   "cell_type": "code",
   "execution_count": 1,
   "id": "8a642921-095d-42e9-ad05-94552c79c8d3",
   "metadata": {},
   "outputs": [],
   "source": [
    "import statistics\n",
    "\n",
    "with open('d10.txt', 'r') as f:\n",
    "    content = f.readlines()\n",
    "\n",
    "data = list([[c for c in list(d.strip('\\n'))] for d in content])"
   ]
  },
  {
   "cell_type": "code",
   "execution_count": 2,
   "id": "883faa76-d79d-4553-acab-30e119a96ba0",
   "metadata": {},
   "outputs": [
    {
     "data": {
      "text/plain": [
       "442131"
      ]
     },
     "execution_count": 2,
     "metadata": {},
     "output_type": "execute_result"
    }
   ],
   "source": [
    "brackets = {'(':')', '[':']', '{':'}', '<':'>'}\n",
    "scores = {')': 3, ']': 57, '}': 1197, '>': 25137}\n",
    "line_scores = []\n",
    "uncorrupt_data = []\n",
    "for l in data:\n",
    "    stack = []\n",
    "    invalid = False\n",
    "    for c in l:\n",
    "        if c in brackets:\n",
    "            stack.append(brackets[c])\n",
    "        elif c != stack.pop():\n",
    "            invalid = True\n",
    "            line_scores.append(scores[c])\n",
    "    if not invalid:\n",
    "        uncorrupt_data.append(l)\n",
    "sum(line_scores)"
   ]
  },
  {
   "cell_type": "markdown",
   "id": "c823ed3b-ff51-4f88-bb7f-742c222401fe",
   "metadata": {
    "tags": []
   },
   "source": [
    "## Part 2"
   ]
  },
  {
   "cell_type": "code",
   "execution_count": 3,
   "id": "b9a4a76c-aeaf-4cc6-a6c8-5d4c66a5be26",
   "metadata": {},
   "outputs": [
    {
     "data": {
      "text/plain": [
       "3646451424"
      ]
     },
     "execution_count": 3,
     "metadata": {},
     "output_type": "execute_result"
    }
   ],
   "source": [
    "scores = {')': 1, ']': 2, '}': 3, '>': 4}\n",
    "line_scores = []\n",
    "stack = []\n",
    "for l in uncorrupt_data:\n",
    "    stack = []\n",
    "    for c in l:\n",
    "        if c in brackets:\n",
    "            stack.append(brackets[c])\n",
    "        elif len(stack) and c != stack.pop():\n",
    "            line_scores.append(scores[c])\n",
    "    score = 0\n",
    "    while len(stack)>0:\n",
    "        score = score * 5 + scores[stack.pop()]\n",
    "    line_scores.append(score)\n",
    "statistics.median(line_scores)"
   ]
  }
 ],
 "metadata": {
  "kernelspec": {
   "display_name": "Python 3 (ipykernel)",
   "language": "python",
   "name": "python3"
  },
  "language_info": {
   "codemirror_mode": {
    "name": "ipython",
    "version": 3
   },
   "file_extension": ".py",
   "mimetype": "text/x-python",
   "name": "python",
   "nbconvert_exporter": "python",
   "pygments_lexer": "ipython3",
   "version": "3.9.7"
  }
 },
 "nbformat": 4,
 "nbformat_minor": 5
}
