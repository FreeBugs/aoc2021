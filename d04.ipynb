{
 "cells": [
  {
   "cell_type": "markdown",
   "id": "b3e694f0-d6c3-4831-9435-397e552fe686",
   "metadata": {},
   "source": [
    "# ~~~~~ Day 4 ~~~~~ \n",
    "## Part 1"
   ]
  },
  {
   "cell_type": "code",
   "execution_count": 1,
   "id": "96902a3e-bb0d-4024-b32c-293fc1d1fe04",
   "metadata": {},
   "outputs": [
    {
     "data": {
      "text/plain": [
       "array([[[68, 73, 98, 51, 49],\n",
       "        [82, 56, 87, 64,  8],\n",
       "        [46,  7, 21, 38, 30],\n",
       "        [66,  5, 86, 97, 74],\n",
       "        [60, 63, 76, 55, 39]],\n",
       "\n",
       "       [[92, 20, 87, 77, 52],\n",
       "        [72, 29, 81, 24, 64],\n",
       "        [26, 16, 19, 79, 68],\n",
       "        [ 8, 53, 90, 14, 74],\n",
       "        [28, 89, 78, 54, 15]],\n",
       "\n",
       "       [[13, 17, 35,  2, 85],\n",
       "        [37, 87, 57, 74, 65],\n",
       "        [60, 21, 18, 98, 96],\n",
       "        [ 4, 51, 46, 84,  0],\n",
       "        [90, 75, 80, 41, 64]],\n",
       "\n",
       "       ...,\n",
       "\n",
       "       [[34, 73, 60, 32, 56],\n",
       "        [49, 35, 44, 79, 83],\n",
       "        [64, 61, 57,  5, 24],\n",
       "        [72, 58,  8, 66, 77],\n",
       "        [94, 31, 55, 67, 74]],\n",
       "\n",
       "       [[49, 17, 22, 97, 88],\n",
       "        [ 0, 16, 14, 93, 31],\n",
       "        [28, 73,  6, 82, 90],\n",
       "        [80, 45, 92, 55, 78],\n",
       "        [ 3, 42, 65, 37, 29]],\n",
       "\n",
       "       [[23, 61, 97,  1, 69],\n",
       "        [53, 98, 28, 52, 19],\n",
       "        [66, 51, 46, 77, 15],\n",
       "        [34, 36, 47, 80, 14],\n",
       "        [ 7, 89, 62,  9, 49]]])"
      ]
     },
     "execution_count": 1,
     "metadata": {},
     "output_type": "execute_result"
    }
   ],
   "source": [
    "import numpy as np\n",
    "import math\n",
    "\n",
    "boards = []\n",
    "with open('d04.txt', 'r') as f:\n",
    "    content = f.readlines()\n",
    "\n",
    "random_numbers = [int(c) for c in content[0].strip('\\n').split(',')]\n",
    "\n",
    "boards = np.zeros(shape=(int(len(content)/6), 5, 5), dtype=int)\n",
    "chunk_row = 0\n",
    "board = 0\n",
    "for row in range(2, len(content)):\n",
    "    if content[row] != '\\n':\n",
    "        boards[board, chunk_row] = [int(content[row][i:i+3].strip(' ')) for i in range(0, len(content[row]), 3)]\n",
    "        chunk_row += 1\n",
    "        if chunk_row > 4:\n",
    "            chunk_row = 0\n",
    "            board += 1\n",
    "\n",
    "boards"
   ]
  },
  {
   "cell_type": "code",
   "execution_count": 2,
   "id": "17c0caeb-1bde-4b59-bede-22904da49c49",
   "metadata": {},
   "outputs": [],
   "source": [
    "#draws = np.reshape(random_numbers + ([-1 for i in range(0, math.ceil(len(random_numbers)/5)*5-len(random_numbers))]), (-1, 5))\n",
    "draws = random_numbers"
   ]
  },
  {
   "cell_type": "code",
   "execution_count": 3,
   "id": "1397669e-8a67-443f-8333-a6426c946667",
   "metadata": {},
   "outputs": [
    {
     "name": "stdout",
     "output_type": "stream",
     "text": [
      "Number 16: horizonal all true, position (array([68]), array([4]))\n",
      "Winning board: 69\n"
     ]
    }
   ],
   "source": [
    "matches = np.zeros(shape=boards.shape)\n",
    "winning_board = -1\n",
    "for i in range(0, len(draws)):\n",
    "    matches = np.logical_or(matches, np.isin(boards, draws[i]))\n",
    "    #print(matches)\n",
    "\n",
    "    h_true = np.alltrue(matches, axis=2)\n",
    "    if np.any(h_true):\n",
    "        print(f'Number {i+1}: horizonal all true, position {np.where(h_true)}')\n",
    "        winning_board = np.where(np.any(h_true, axis=1))[0][0]\n",
    "        break\n",
    "    v_true = np.alltrue(matches, axis=1)\n",
    "    if np.any(v_true):\n",
    "        print(f'Number {i+1}: vertical all true, position {np.where(v_true)}')\n",
    "        winning_board = np.where(np.any(v_true, axis=1))[0][0]\n",
    "        break\n",
    "    \n",
    "print(f'Winning board: {winning_board+1}')"
   ]
  },
  {
   "cell_type": "code",
   "execution_count": 4,
   "id": "cbcc0e07-d6e5-4dff-b3b7-625b8b8e2736",
   "metadata": {},
   "outputs": [
    {
     "name": "stdout",
     "output_type": "stream",
     "text": [
      "[[98 74 36 23  6]\n",
      " [65 17 78 95 96]\n",
      " [68 63 47 16 18]\n",
      " [87 30 53 51 57]\n",
      " [69 11 44 75 89]]\n",
      "[[False False False  True False]\n",
      " [False False  True False False]\n",
      " [False False False False False]\n",
      " [False  True False False False]\n",
      " [ True  True  True  True  True]]\n",
      "[98 74 36  6 65 17 95 96 68 63 47 16 18 87 53 51 57]\n",
      "Winning sum: 947, called number: 44 -> 41668\n"
     ]
    }
   ],
   "source": [
    "print(boards[winning_board])\n",
    "print(matches[winning_board])\n",
    "print(boards[winning_board, ~matches[winning_board]])\n",
    "winsum = np.sum(boards[winning_board, ~matches[winning_board]])\n",
    "print(f'Winning sum: {winsum}, called number: {draws[i]} -> {winsum*draws[i]}')"
   ]
  },
  {
   "cell_type": "markdown",
   "id": "c823ed3b-ff51-4f88-bb7f-742c222401fe",
   "metadata": {},
   "source": [
    "## Part 2"
   ]
  },
  {
   "cell_type": "code",
   "execution_count": 5,
   "id": "fbc189cd-0f24-4cf5-bad4-e7a7c6b99856",
   "metadata": {},
   "outputs": [],
   "source": [
    "matches = np.zeros(shape=boards.shape)\n",
    "nboards = boards.shape[0]\n",
    "winning_boards = np.zeros(shape=nboards, dtype=bool)\n",
    "for i in range(0, len(draws)):\n",
    "    matches = np.logical_or(matches, np.isin(boards, draws[i]))\n",
    "    h_true = np.alltrue(matches, axis=2)\n",
    "    v_true = np.alltrue(matches, axis=1)\n",
    "    winning_boards = np.logical_or(winning_boards, np.any(h_true, axis=1))\n",
    "    winning_boards = np.logical_or(winning_boards, np.any(v_true, axis=1))\n",
    "    if np.sum(winning_boards) == nboards - 1:\n",
    "        losing_board = np.where(~winning_boards)[0][0]\n",
    "    if np.sum(winning_boards) == nboards:\n",
    "        break"
   ]
  },
  {
   "cell_type": "code",
   "execution_count": 6,
   "id": "9af5ea81-f7d6-4c11-a24b-8f4db6c246f2",
   "metadata": {},
   "outputs": [
    {
     "name": "stdout",
     "output_type": "stream",
     "text": [
      "[[26 47  2 22  9]\n",
      " [ 6 81 53 17 88]\n",
      " [58 25 55 31 19]\n",
      " [42 27 85 97 14]\n",
      " [64 52 66 63 51]]\n",
      "[[ True  True  True  True False]\n",
      " [ True False  True  True  True]\n",
      " [False False  True  True  True]\n",
      " [ True  True False  True False]\n",
      " [ True  True False  True  True]]\n",
      "[ 9 81 58 25 85 14 66]\n",
      "Winning sum: 338, called number: 31 -> 10478\n"
     ]
    }
   ],
   "source": [
    "print(boards[losing_board])\n",
    "print(matches[losing_board])\n",
    "print(boards[losing_board, ~matches[losing_board]])\n",
    "winsum = np.sum(boards[losing_board, ~matches[losing_board]])\n",
    "print(f'Winning sum: {winsum}, called number: {draws[i]} -> {winsum*draws[i]}')"
   ]
  },
  {
   "cell_type": "code",
   "execution_count": null,
   "id": "760b1a4a-97cf-4d46-8879-baac9e2db891",
   "metadata": {},
   "outputs": [],
   "source": []
  }
 ],
 "metadata": {
  "kernelspec": {
   "display_name": "Python 3 (ipykernel)",
   "language": "python",
   "name": "python3"
  },
  "language_info": {
   "codemirror_mode": {
    "name": "ipython",
    "version": 3
   },
   "file_extension": ".py",
   "mimetype": "text/x-python",
   "name": "python",
   "nbconvert_exporter": "python",
   "pygments_lexer": "ipython3",
   "version": "3.9.7"
  }
 },
 "nbformat": 4,
 "nbformat_minor": 5
}
